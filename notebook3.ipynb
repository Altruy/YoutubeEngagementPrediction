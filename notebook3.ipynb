{
 "cells": [
  {
   "cell_type": "markdown",
   "metadata": {},
   "source": [
    "# YouTube Video Engagement Analysis Project"
   ]
  },
  {
   "cell_type": "markdown",
   "metadata": {},
   "source": [
    "## Notebook 3: Model Development and Training\n",
    "\n",
    "In this notebook, we will develop and train a regression model to identify key factors\n",
    "that drive high engagement (likes, comments, shares) on electric scooter videos."
   ]
  },
  {
   "cell_type": "code",
   "execution_count": 8,
   "metadata": {},
   "outputs": [],
   "source": [
    "# Import necessary libraries\n",
    "import pandas as pd\n",
    "import numpy as np\n",
    "import seaborn as sns\n",
    "import matplotlib.pyplot as plt\n",
    "from sklearn.model_selection import train_test_split\n",
    "from sklearn.preprocessing import StandardScaler\n",
    "from sklearn.ensemble import RandomForestRegressor\n",
    "from sklearn.metrics import mean_squared_error\n",
    "from sklearn.feature_extraction.text import TfidfVectorizer\n",
    "from sklearn.metrics import accuracy_score, f1_score, classification_report, confusion_matrix\n"
   ]
  },
  {
   "cell_type": "code",
   "execution_count": 2,
   "metadata": {},
   "outputs": [],
   "source": [
    "# Load data\n",
    "df = pd.read_csv('youtube_metadata.csv')\n",
    "\n",
    "# Feature engineering\n",
    "# Convert counts to integers\n",
    "df['view_count'] = df['view_count'].astype(int)\n",
    "df['like_count'] = df['like_count'].astype(int)\n",
    "df['dislike_count'] = df['dislike_count'].astype(int)\n",
    "df['comment_count'] = df['comment_count'].astype(int)\n",
    "\n",
    "# Convert published_at to datetime\n",
    "df['published_at'] = pd.to_datetime(df['published_at'])\n",
    "\n",
    "# Extract relevant features for analysis\n",
    "df['duration_seconds'] = pd.to_timedelta(df['duration']).dt.total_seconds()\n",
    "df['tags_count'] = df['tags'].apply(len)\n",
    "\n",
    "# Combine tags and description for text analysis\n",
    "df['text'] = df['tags'].apply(lambda x: ' '.join(x)) + ' ' + df['description']\n"
   ]
  },
  {
   "cell_type": "code",
   "execution_count": 3,
   "metadata": {},
   "outputs": [],
   "source": [
    "# Remove non UTF-8 Characters to process text\n",
    "def keep_utf8_characters(text):\n",
    "    try:\n",
    "        # Encode to utf-8 and decode to remove invalid characters\n",
    "        return text.encode('utf-8', 'ignore').decode('utf-8', 'ignore')\n",
    "    except:\n",
    "        # If there's an error, return an empty string\n",
    "        return ''\n",
    "\n",
    "df['text'] = df['text'].apply(keep_utf8_characters)"
   ]
  },
  {
   "cell_type": "markdown",
   "metadata": {},
   "source": [
    "TF-IDF is a natural language processing (NLP) technique that's used to evaluate the importance of different words in a sentence. TF-IDF stands for term frequency-inverse document frequency and it is a measure, used in the fields of information retrieval (IR) and machine learning, that can quantify the importance or relevance of string representations (words, phrases, lemmas, etc) in a document amongst a collection of documents"
   ]
  },
  {
   "cell_type": "markdown",
   "metadata": {},
   "source": [
    "The max_features here selects the total number of features which are extracted from the 'text' column. "
   ]
  },
  {
   "cell_type": "code",
   "execution_count": 4,
   "metadata": {},
   "outputs": [],
   "source": [
    "# Text processing: TF-IDF vectorization\n",
    "tfidf_vectorizer = TfidfVectorizer(stop_words='english', max_features=100)\n",
    "tfidf_matrix = tfidf_vectorizer.fit_transform(df['text'])\n",
    "\n",
    "# Convert TF-IDF matrix to DataFrame\n",
    "tfidf_df = pd.DataFrame(tfidf_matrix.toarray(), columns=tfidf_vectorizer.get_feature_names_out())\n",
    "\n",
    "# Join TF-IDF features with the original DataFrame\n",
    "df = pd.concat([df, tfidf_df], axis=1)\n"
   ]
  },
  {
   "cell_type": "code",
   "execution_count": 5,
   "metadata": {},
   "outputs": [],
   "source": [
    "# Calculate percentiles for classification thresholds\n",
    "percentile_33 = df['view_count'].quantile(0.33)\n",
    "percentile_66 = df['view_count'].quantile(0.66)\n",
    "\n",
    "# Define engagement classes\n",
    "def classify_engagement(likes):\n",
    "    if likes <= percentile_33:\n",
    "        return 0\n",
    "    elif likes <= percentile_66:\n",
    "        return 1\n",
    "    else:\n",
    "        return 2\n",
    "\n",
    "df['engagement_class'] = df['view_count'].apply(classify_engagement)"
   ]
  },
  {
   "cell_type": "markdown",
   "metadata": {},
   "source": [
    "The input will have the shape [1,103]"
   ]
  },
  {
   "cell_type": "code",
   "execution_count": 9,
   "metadata": {},
   "outputs": [
    {
     "name": "stdout",
     "output_type": "stream",
     "text": [
      "Mean Squared Error: 0.07142857142857142\n",
      "              precision    recall  f1-score   support\n",
      "\n",
      "           0       0.88      1.00      0.93         7\n",
      "           1       1.00      0.67      0.80         3\n",
      "           2       1.00      1.00      1.00         4\n",
      "\n",
      "    accuracy                           0.93        14\n",
      "   macro avg       0.96      0.89      0.91        14\n",
      "weighted avg       0.94      0.93      0.92        14\n",
      "\n"
     ]
    }
   ],
   "source": [
    "# Prepare data for modeling\n",
    "features = ['view_count', 'duration_seconds', 'tags_count'] + list(tfidf_vectorizer.get_feature_names_out())\n",
    "X = df[features]\n",
    "y = df['engagement_class']\n",
    "\n",
    "# Split data into training and test sets\n",
    "X_train, X_test, y_train, y_test = train_test_split(X, y, test_size=0.3, random_state=42)\n",
    "\n",
    "# Scale features\n",
    "scaler = StandardScaler()\n",
    "X_train = scaler.fit_transform(X_train)\n",
    "X_test = scaler.transform(X_test)\n",
    "\n",
    "# Train model\n",
    "model = RandomForestRegressor(n_estimators=100, random_state=42)\n",
    "model.fit(X_train, y_train)\n",
    "\n",
    "# Predict and evaluate model performance\n",
    "y_pred = model.predict(X_test)\n",
    "y_pred_round = [round(x) for x in y_pred]\n",
    "\n",
    "conf_matrix = confusion_matrix(y_test, y_pred_round)\n",
    "mse = mean_squared_error(y_test, y_pred_round)\n",
    "cr = classification_report(y_test, y_pred_round)\n",
    "\n",
    "print(f'Mean Squared Error: {mse}')\n",
    "print(cr)\n"
   ]
  },
  {
   "cell_type": "code",
   "execution_count": 10,
   "metadata": {},
   "outputs": [
    {
     "data": {
      "image/png": "[encoded data removed]",
      "text/plain": [
       "<Figure size 1000x700 with 2 Axes>"
      ]
     },
     "metadata": {},
     "output_type": "display_data"
    }
   ],
   "source": [
    "# Define the labels\n",
    "labels = ['Low Engagement', 'Medium Engagement', 'High Engagement']\n",
    "\n",
    "# Plot the confusion matrix\n",
    "plt.figure(figsize=(10, 7))\n",
    "sns.heatmap(conf_matrix, annot=True, fmt='d', cmap='Blues', xticklabels=labels, yticklabels=labels)\n",
    "plt.xlabel('Predicted')\n",
    "plt.ylabel('Actual')\n",
    "plt.title('Confusion Matrix')\n",
    "plt.show()"
   ]
  },
  {
   "cell_type": "code",
   "execution_count": 11,
   "metadata": {},
   "outputs": [
    {
     "data": {
      "text/plain": [
       "(14, 103)"
      ]
     },
     "execution_count": 11,
     "metadata": {},
     "output_type": "execute_result"
    }
   ],
   "source": [
    "X_test.shape"
   ]
  },
  {
   "cell_type": "code",
   "execution_count": 36,
   "metadata": {},
   "outputs": [
    {
     "data": {
      "text/plain": [
       "['model.pkl']"
      ]
     },
     "execution_count": 36,
     "metadata": {},
     "output_type": "execute_result"
    }
   ],
   "source": [
    "# Save model for deployment\n",
    "import joblib\n",
    "joblib.dump(model, 'model.pkl')"
   ]
  },
  {
   "cell_type": "code",
   "execution_count": null,
   "metadata": {},
   "outputs": [],
   "source": [
    "import boto3\n",
    "\n",
    "# Upload the model to S3\n",
    "client = boto3.client(\n",
    "    's3',\n",
    "    aws_access_key_id=\"\",\n",
    "    aws_secret_access_key=\"\",\n",
    ")\n",
    "client.upload_file('model.pkl', 'electric-scooters', 'model/model.pkl')"
   ]
  },
  {
   "cell_type": "markdown",
   "metadata": {},
   "source": [
    "## After Notebook 4 for setup, you can run this code to test"
   ]
  },
  {
   "cell_type": "code",
   "execution_count": 19,
   "metadata": {},
   "outputs": [],
   "source": [
    "input_data = X_test.tolist()[3]\n",
    "input_label = y_test.tolist()[3]"
   ]
  },
  {
   "cell_type": "code",
   "execution_count": 17,
   "metadata": {},
   "outputs": [
    {
     "name": "stdout",
     "output_type": "stream",
     "text": [
      "Total number of features: 103\n"
     ]
    }
   ],
   "source": [
    "print('Total number of features:',len(input_data))"
   ]
  },
  {
   "cell_type": "code",
   "execution_count": 79,
   "metadata": {},
   "outputs": [
    {
     "data": {
      "text/plain": [
       "'Low Engagement'"
      ]
     },
     "execution_count": 79,
     "metadata": {},
     "output_type": "execute_result"
    }
   ],
   "source": [
    "import requests\n",
    "\n",
    "labels = {0:'Low Engagement', 1:'Medium Engagement', 2:'High Engagement'}\n",
    "\n",
    "# Replace with your API Gateway invoke URL\n",
    "api_url = 'http://YOUR_PUBLIC_IP_DNS.ap-southeast-2.compute.amazonaws.com:5000/predict'\n",
    "response = requests.post(api_url, json={'input': input_data})\n",
    "response.json()\n",
    "prediction = labels[response.json()['prediction']]\n",
    "prediction"
   ]
  },
  {
   "cell_type": "markdown",
   "metadata": {},
   "source": [
    "The correct label, we were expecting"
   ]
  },
  {
   "cell_type": "code",
   "execution_count": 14,
   "metadata": {},
   "outputs": [
    {
     "data": {
      "text/plain": [
       "'Low Engagement'"
      ]
     },
     "execution_count": 14,
     "metadata": {},
     "output_type": "execute_result"
    }
   ],
   "source": [
    "tru_pred = labels[input_label]\n",
    "tru_pred"
   ]
  }
 ],
 "metadata": {
  "kernelspec": {
   "display_name": "Python 3",
   "language": "python",
   "name": "python3"
  },
  "language_info": {
   "codemirror_mode": {
    "name": "ipython",
    "version": 3
   },
   "file_extension": ".py",
   "mimetype": "text/x-python",
   "name": "python",
   "nbconvert_exporter": "python",
   "pygments_lexer": "ipython3",
   "version": "3.12.2"
  }
 },
 "nbformat": 4,
 "nbformat_minor": 2
}
