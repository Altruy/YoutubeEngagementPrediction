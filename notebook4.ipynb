{
 "cells": [
  {
   "cell_type": "markdown",
   "metadata": {},
   "source": [
    "# YouTube Video Popularity Prediction Project"
   ]
  },
  {
   "cell_type": "markdown",
   "metadata": {},
   "source": [
    "# Notebook 4: Model Deployment and API Integration\n",
    "\n",
    "In this notebook, we will deploy our trained model using AWS EC2 and set up an API Gateway, using a FastAPI server in a Virtual Machine on the cloud to allow for real-time predictions via API requests."
   ]
  },
  {
   "cell_type": "markdown",
   "metadata": {},
   "source": [
    "### Create EC2 Instance\n",
    "\n",
    "\n",
    "1. Go to the EC2 Console:\n",
    "\n",
    "- In the AWS Management Console, go to the Amazon EC2 Console.\n",
    "\n",
    "2. Launch a New Instance:\n",
    "\n",
    "\n",
    "- Click Launch Instance.\n",
    "- Choose an Amazon Machine Image (AMI), such as Amazon Linux 2 AMI (HVM), SSD Volume Type. (Default is free tier)\n",
    "- Choose an Instance Type. t2.micro is a good choice for low-cost, low-traffic applications.\n",
    "- Click Next: Configure Instance Details.\n",
    "- Configure the instance details as needed. For basic use, the default settings are sufficient.\n",
    "- Click Next: Add Storage.\n",
    "- Add storage if needed, otherwise, the default 8 GB is usually enough.\n",
    "- Click Next: Add Tags.\n",
    "- Add tags to help identify your instance, such as Key: Name, Value: MyModelAPI.\n",
    "- Click Next: Configure Security Group.\n",
    "Add a security group rule to allow HTTP and SSH access:\n",
    "Type: HTTP, Port Range: 80, Source: Anywhere\n",
    "Type: SSH, Port Range: 22, Source: My IP (or 0.0.0.0/0 for Anywhere for public access, but this is less secure)\n",
    "Type: All Traffic, Port: 5000, Source: My IP (or 0.0.0.0/0 Anywhere for public access, but this is less secure)\n",
    "- Create a new key pair to access the instance, save the .pem file for ssh access\n",
    "- Click Review and Launch.\n",
    "- Click Launch."
   ]
  },
  {
   "cell_type": "markdown",
   "metadata": {},
   "source": [
    "### Connect to Your EC2 Instance\n",
    "1. Obtain the Public DNS: \n",
    "- Once the instance is running, select it from the instances list.\n",
    "- Copy the Public DNS (IPv4) address for the instance.\n",
    "- Example: 'http://ec2-5-20-1-204.ap-southeast-2.compute.amazonaws.com'\n",
    "\n",
    "2. Connect to Instance:\n",
    "- Open a terminal (or use an SSH client like PuTTY on Windows).\n",
    "- Connect using the key pair and the public DNS:\n",
    "```\n",
    "ssh -i /path/to/your-key-pair.pem ec2-user@your-ec2-public-dns\n",
    "```"
   ]
  },
  {
   "cell_type": "markdown",
   "metadata": {},
   "source": [
    "### Set up the Environment on EC2 Instance\n",
    "1. Run the following commands to update the instance and install necessary packages:\n",
    "```\n",
    "sudo yum update -y\n",
    "sudo yum install python3 git -y\n",
    "mkdir youtubeMeta\n",
    "cd youtubeMeta\n",
    "```\n",
    "\n",
    "2. Install Required Python Packages in a virtual environment:\n",
    "```\n",
    "python3 -m venv myenv\n",
    "source myenv/bin/activate\n",
    "curl -O https://bootstrap.pypa.io/get-pip.py\n",
    "python3 get-pip.py\n",
    "sudo python3 get-pip.py\n",
    "pip install joblib scikit-learn numpy fastapi uvicorn\n",
    "sudo pip install joblib scikit-learn numpy fastapi uvicorn\n",
    "```"
   ]
  },
  {
   "cell_type": "markdown",
   "metadata": {},
   "source": [
    "3. Create the \"main.py\" in the youtubeMeta directory\n",
    "```\n",
    "nano main.py\n",
    "```\n",
    "Add aws s3 credentials and copy the following code in main.py"
   ]
  },
  {
   "cell_type": "code",
   "execution_count": null,
   "metadata": {},
   "outputs": [],
   "source": [
    "from fastapi import FastAPI, HTTPException\n",
    "from pydantic import BaseModel\n",
    "import joblib\n",
    "import numpy as np\n",
    "import os\n",
    "import boto3\n",
    "\n",
    "app = FastAPI()\n",
    "\n",
    "# Function to download the model from S3\n",
    "def download_model_from_s3(bucket_name, object_key, local_file_name):\n",
    "    s3 = boto3.client(\n",
    "        's3',\n",
    "        aws_access_key_id=\"\",\n",
    "        aws_secret_access_key=\"\",\n",
    "    )\n",
    "    try:\n",
    "        s3.download_file(bucket_name, object_key, local_file_name)\n",
    "    except Exception as e:\n",
    "        raise HTTPException(status_code=500, detail=f\"Error downloading model: {str(e)}\")\n",
    "\n",
    "# Define the S3 bucket and object key\n",
    "S3_BUCKET_NAME = 'electric-scooters'\n",
    "S3_OBJECT_KEY = 'model/model.pkl'\n",
    "LOCAL_MODEL_PATH = 'model.pkl'\n",
    "\n",
    "# Download the model if it does not exist locally\n",
    "if not os.path.exists(LOCAL_MODEL_PATH):\n",
    "    download_model_from_s3(S3_BUCKET_NAME, S3_OBJECT_KEY, LOCAL_MODEL_PATH)\n",
    "\n",
    "# Load the model\n",
    "model = joblib.load(LOCAL_MODEL_PATH)\n",
    "\n",
    "class InputData(BaseModel):\n",
    "    input: list\n",
    "\n",
    "@app.get('/')\n",
    "def live():\n",
    "    return {\"status\":\"running\"}\n",
    "\n",
    "@app.post(\"/predict\")\n",
    "def predict(data: InputData):\n",
    "    try:\n",
    "        input_data = np.array(data.input).reshape(1, -1)\n",
    "        prediction = model.predict(input_data)\n",
    "        return {\"prediction\": int(prediction[0])}\n",
    "    except Exception as e:\n",
    "        raise HTTPException(status_code=400, detail=str(e))\n",
    "\n",
    "if __name__ == \"__main__\":\n",
    "    import uvicorn\n",
    "    uvicorn.run(app, host=\"0.0.0.0\", port=5000)\n"
   ]
  },
  {
   "cell_type": "markdown",
   "metadata": {},
   "source": [
    "4. Start the FastAPI server\n",
    "- Make sure the Environment is activated\n",
    "```\n",
    "source myenv/bin/activate\n",
    "```\n",
    "- run the command\n",
    "```\n",
    "sudo uvicorn main:app --host 0.0.0.0 --port 5000\n",
    "```\n",
    "5. From your local browser open the url \"http://your-ec2-public-dns:5000/\" to confirm is the server is running. You should see {\"status\":\"running\"} in the browser\n",
    "6. You can use the code in notebook 3 to test out predictions on the testing dataset"
   ]
  },
  {
   "cell_type": "markdown",
   "metadata": {},
   "source": [
    "### Additional Steps to Keep the APplication Running\n",
    "1. Install tmux\n",
    "```\n",
    "sudo yum install tmux -y\n",
    "```\n",
    "2. start a tmux session\n",
    "```\n",
    "tmux\n",
    "```\n",
    "3. Run the FastAPI server in the tmux session\n",
    "```\n",
    "source myenv/bin/activate\n",
    "uvicorn main:app --host 0.0.0.0 --port 5000\n",
    "```\n",
    "4. Detach form tmux Session:\n",
    "- Press `Ctrl + B`, and then `D` to detach. the server will keep running. you can terminate the ssh session and the server will continue to run\n",
    "5. To Reattach to tmux Session Later\n",
    "```\n",
    "tmux attach-session -t o\n",
    "```"
   ]
  },
  {
   "cell_type": "markdown",
   "metadata": {},
   "source": [
    "## Live API Calling\n",
    "\n",
    "TODO:"
   ]
  },
  {
   "cell_type": "markdown",
   "metadata": {},
   "source": [
    "Use the notebook 3 to call the API, You can use the prepared Test Split to start, and then create a function for new youtube video processing"
   ]
  }
 ],
 "metadata": {
  "kernelspec": {
   "display_name": "Python 3",
   "language": "python",
   "name": "python3"
  },
  "language_info": {
   "codemirror_mode": {
    "name": "ipython",
    "version": 3
   },
   "file_extension": ".py",
   "mimetype": "text/x-python",
   "name": "python",
   "nbconvert_exporter": "python",
   "pygments_lexer": "ipython3",
   "version": "3.12.2"
  }
 },
 "nbformat": 4,
 "nbformat_minor": 2
}
